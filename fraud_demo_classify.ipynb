{
 "cells": [
  {
   "cell_type": "markdown",
   "metadata": {},
   "source": [
    "# Credit Card Fraud Analysis\n",
    "\n",
    "Script to explore prediction of fraud with the following dataset:\n",
    "Andrea Dal Pozzolo, Olivier Caelen, Reid A. Johnson and Gianluca Bontempi.\n",
    "Calibrating Probability with Undersampling for Unbalanced Classification.\n",
    "In Symposium on Computational Intelligence and Data Mining (CIDM), IEEE, 2015\n",
    "\n",
    "The dataset can be downloaded from:\n",
    "https://www.kaggle.com/dalpozz/creditcardfraud\n",
    "\n",
    "The approach will be to use an autoencoder to understand learn about the dataset\n",
    "and to identify the transactions with the biggest error from the autoencoder reconstruction.\n",
    "\n",
    "The autoencoder will then be used as pre-training for a neural network classifier"
   ]
  },
  {
   "cell_type": "code",
   "execution_count": 1,
   "metadata": {},
   "outputs": [],
   "source": [
    "%matplotlib inline\n",
    "%reload_ext autoreload\n",
    "%autoreload 2"
   ]
  },
  {
   "cell_type": "code",
   "execution_count": 2,
   "metadata": {},
   "outputs": [],
   "source": [
    "%qtconsole"
   ]
  },
  {
   "cell_type": "code",
   "execution_count": 3,
   "metadata": {},
   "outputs": [],
   "source": [
    "# Import libraries\n",
    "import numpy as np\n",
    "import pandas as pd\n",
    "import torch\n",
    "import torch.cuda\n",
    "from torch import nn as nn\n",
    "from torch import optim as optim\n",
    "from torch.optim.lr_scheduler import ReduceLROnPlateau\n",
    "import sklearn as skl\n",
    "import matplotlib.pyplot as plt\n",
    "import os"
   ]
  },
  {
   "cell_type": "code",
   "execution_count": 4,
   "metadata": {},
   "outputs": [],
   "source": [
    "# define analysis hyper-parameters\n",
    "batch_size=64\n",
    "# Identify the shape of the encoder, which has to be re-created\n",
    "hidden_nodes=[14,7]"
   ]
  },
  {
   "cell_type": "code",
   "execution_count": 5,
   "metadata": {},
   "outputs": [],
   "source": [
    "# Check for GPU and CUDA libraries\n",
    "HAS_CUDA=torch.cuda.is_available()"
   ]
  },
  {
   "cell_type": "code",
   "execution_count": 6,
   "metadata": {},
   "outputs": [],
   "source": [
    "# Attempt to get consistant results during model development by fixing random seeds\n",
    "torch.manual_seed(10)\n",
    "if HAS_CUDA:\n",
    "    torch.cuda.manual_seed(10)"
   ]
  },
  {
   "cell_type": "code",
   "execution_count": 7,
   "metadata": {},
   "outputs": [
    {
     "name": "stdout",
     "output_type": "stream",
     "text": [
      "Encoder case to use: base_case\n",
      "All data loaded\n"
     ]
    }
   ],
   "source": [
    "import pickle\n",
    "import feather\n",
    "while True:\n",
    "    case_name=input('Encoder case to use: ')\n",
    "    directory=os.path.dirname(case_name)\n",
    "    if os.path.exists(case_name):\n",
    "        break\n",
    "    else:\n",
    "        print('Case does not exist!')\n",
    "\n",
    "# Load parameters\n",
    "fromPickle=[]\n",
    "with open(case_name+'/'+'analysis_params.pkl', 'rb') as f:\n",
    "    [batch_size, lr, no_epochs, hidden_nodes]=pickle.load(f)\n",
    "    f.close \n",
    "    \n",
    "# Load training and vallidation datasets\n",
    "data_tr=feather.read_dataframe(f'{case_name}/data_tr.feather')\n",
    "data_val=feather.read_dataframe(f'{case_name}/data_val.feather')\n",
    "print('All data loaded')"
   ]
  },
  {
   "cell_type": "code",
   "execution_count": 8,
   "metadata": {},
   "outputs": [],
   "source": [
    "# Create dataset, this time including the fraudulent cases and the target classes\n",
    "CF_input_tr = data_tr.drop(['Class','Amt_To_Keep'], axis=1)\n",
    "CF_target_tr = data_tr['Class']\n",
    "CF_input_val = data_val.drop(['Class','Amt_To_Keep'], axis=1)\n",
    "CF_target_val = data_val['Class']\n",
    "\n",
    "# Convert arrays to PyTorch Tensors\n",
    "CF_input_tr=torch.Tensor.float(torch.from_numpy(CF_input_tr.values))\n",
    "CF_target_tr=torch.Tensor.long(torch.from_numpy(CF_target_tr.values))\n",
    "CF_input_val=torch.Tensor.float(torch.from_numpy(CF_input_val.values))\n",
    "CF_target_val=torch.Tensor.long(torch.from_numpy(CF_target_val.values))\n"
   ]
  },
  {
   "cell_type": "markdown",
   "metadata": {},
   "source": [
    "### Create version of data for training the Autoencoder. \n"
   ]
  },
  {
   "cell_type": "code",
   "execution_count": 9,
   "metadata": {},
   "outputs": [],
   "source": [
    "# Re-Create AutoEncoder model\n",
    "from AutoEncoders import AutoEncoder_Multi_Layer\n",
    "num_features=CF_input_tr.shape[1]\n",
    "AE_model=AutoEncoder_Multi_Layer(num_features, hidden_sizes=hidden_nodes)\n",
    "\n",
    "# Load saved weights\n",
    "if HAS_CUDA:\n",
    "    AE_model.load_state_dict(torch.load(case_name+'/'+'demo_state_dict.pt'))\n",
    "else:\n",
    "    AE_model.load_state_dict(torch.load(case_name+'/'+'demo_state_dict_cpu.pt'))\n",
    "\n",
    "if HAS_CUDA:\n",
    "    AE_model.cuda()"
   ]
  },
  {
   "cell_type": "code",
   "execution_count": 10,
   "metadata": {},
   "outputs": [],
   "source": [
    "# Create new model of combined AutoEncoder and Classifier\n",
    "\n",
    "class ClassifyFromAE(nn.Module):\n",
    "\n",
    "    def __init__(self, AE_Model, n_classes=2, n_hid_cl=[]):\n",
    "        \"\"\"\n",
    "        Class to combine a pre-trained autoencoder with a classifier.  The classifier can have any number of hidden\n",
    "        layers, which can be defined by passing a list to n_hid_cl, with the number of neurons in each layer, for\n",
    "        example n_hid_cl=[20,10,5] would give three hidden layers with 20 10 and 5 neurons respectively\n",
    "        \n",
    "        if n_hid=[] then there will be no hidden layer and the output from the encode will be connected directly to\n",
    "        the softmax\n",
    "        \n",
    "        Parameters:\n",
    "        \n",
    "        AE_Model - a pre-trained autoencoder model\n",
    "        n_classes - the number of output classes\n",
    "        n_hid_cl - A list containing the number of neurons for each hidden layer\n",
    "        \n",
    "        \"\"\"\n",
    "        super(ClassifyFromAE, self).__init__()\n",
    "        #This is the pre-trained Autoencoder\n",
    "        self.AE_Model=AE_Model\n",
    "        \n",
    "        # Number of output classes\n",
    "        self.n_out=n_classes\n",
    "        \n",
    "        # define new layers for classification.  Use a nn.ModuleList to collect classifier layers\n",
    "        # so that we can avoid training them in the early stage\n",
    "        self.CF_layers=nn.ModuleList([])\n",
    "        \n",
    "        if not n_hid_cl:\n",
    "            to_sm=nn.Linear(self.AE_Model.n_outer, self.n_out)\n",
    "            self.CF_layers.append(to_sm)\n",
    "        else:\n",
    "            # We only go down this route if we need hidden layers in the classifier\n",
    "            new_layer=nn.Linear(self.AE_Model.n_outer, n_hid_cl[0])\n",
    "            self.CF_layers.append(new_layer)\n",
    "            new_layer = self.activation\n",
    "            self.CF_layers.append(new_layer)\n",
    "            for layer in range(1, self.CF_n_hid):\n",
    "                new_layer=nn.Linear(n_hid_cl[layer-1], n_hid_cl[layer])\n",
    "                self.CF_layers.append(new_layer)\n",
    "                new_layer = self.activation\n",
    "                self.CF_layers.append(new_layer)\n",
    "            # Add hidden layer linear layer to go from last layer of encoder to classifier\n",
    "            to_sm=nn.Linear(n_hid_cl[-1], 2)\n",
    "            self.CF_layers.append(to_sm)\n",
    "        \n",
    "        # Add final activation \n",
    "        last_relu=nn.LeakyReLU()\n",
    "        self.CF_layers.append(last_relu)\n",
    "        \n",
    "        ## softmax and logliklihood layers (the latter is used for training the former for prediction)\n",
    "        # Add classification for output and training\n",
    "        self.lsm=nn.LogSoftmax()\n",
    "        self.sm=nn.Softmax()\n",
    "\n",
    "    def encoder(self, input):\n",
    "        x = self.AE_Model.encoder(input)\n",
    "        return x\n",
    "\n",
    "    def decoder(self, input):\n",
    "        x = self.AE_Model.decoder(input)\n",
    "        return x\n",
    "\n",
    "    def forward(self, input):\n",
    "        x = self.encoder(input)\n",
    "        x = self.decoder(x)\n",
    "        for i in range(len(self.CF_layers)):\n",
    "            x=self.CF_layers[i](x)\n",
    "        x=self.lsm(x)\n",
    "        return x\n",
    "\n",
    "    def predict(self, input):\n",
    "        x = self.encoder(input)\n",
    "        x = self.decoder(x)\n",
    "        for i in range(len(self.CF_layers)):\n",
    "            x=self.CF_layers[i](x)\n",
    "        x=self.sm(x)\n",
    "        return x"
   ]
  },
  {
   "cell_type": "code",
   "execution_count": 11,
   "metadata": {},
   "outputs": [],
   "source": [
    "# Create instance of the classifier (in this case with no hidden layer)\n",
    "\n",
    "CF_model=ClassifyFromAE(AE_model, n_classes=2, n_hid_cl=[])"
   ]
  },
  {
   "cell_type": "code",
   "execution_count": 12,
   "metadata": {},
   "outputs": [],
   "source": [
    "# Define classifier parameters and create model manager\n",
    "#Control parameters\n",
    "no_epochs_CF=2\n",
    "#no_epoch_CF=1\n",
    "lr_CF=0.001\n",
    "\n",
    "# Put the model onto the graphics card if present\n",
    "if HAS_CUDA:\n",
    "    CF_model.cuda()\n",
    "    \n",
    "# Tell the model not to adjust the weights of the Autoencoder when optimising\n",
    "for param in CF_model.AE_Model.parameters():\n",
    "    param.requires_grad=False\n",
    "    \n",
    "CF_opt = optim.Adam(CF_model.CF_layers.parameters(), lr=lr_CF)\n",
    "\n",
    "#Define loss function (this time Negative Log Likelihood for classifier)\n",
    "CF_cost_function = nn.NLLLoss()\n",
    "\n",
    "# Define scheduler to control adaption of learning rate with training\n",
    "CF_sched = optim.lr_scheduler.ReduceLROnPlateau(CF_opt, mode='min', verbose=True, patience=2, factor=0.2)\n",
    "\n",
    "from nnModels import NN_Manage\n",
    "\n",
    "# Create training, test and prediction manager\n",
    "CF_manager=NN_Manage(model = CF_model,\n",
    "                     loss_function = CF_cost_function, \n",
    "                     optimizer = CF_opt, \n",
    "                     scheduler=CF_sched,\n",
    "                     HAS_CUDA=HAS_CUDA)\n"
   ]
  },
  {
   "cell_type": "code",
   "execution_count": 13,
   "metadata": {},
   "outputs": [
    {
     "name": "stdout",
     "output_type": "stream",
     "text": [
      "Weights for layer: 0\n",
      "[ 1.2245404   1.2114868   1.2058173   1.2075868  -0.17145309]\n",
      " [-1.1535403 -1.1612524 -1.1340013 -1.15049    0.2566308]\n",
      "\n",
      "Weights for layer: 2\n",
      "[ 0.7022519  -0.8492081   0.38762277  0.23290102 -0.45779696]\n",
      " [0.05775605 0.90482885 0.80837315 0.07232201 0.4940859 ]\n",
      "\n",
      "Weights for layer: 4\n",
      "[-0.5069853   0.5117336  -0.21506779  1.3455712   0.530026  ]\n",
      " [-0.15557767  0.06707309 -0.03140653 -4.1155496   0.18079457]\n",
      "\n",
      "Weights for layer: 6\n",
      "[ 0.0094858  -0.00497618  0.01003123 -0.00709216 -0.00711273]\n",
      " [ 0.01943864  0.02288051  0.00334238 -0.00849101  0.00406838]\n",
      "\n"
     ]
    }
   ],
   "source": [
    "# Print small number of weights to check whether they are changed\n",
    "for layer in range(0, len(CF_model.AE_Model.layers), 2):\n",
    "    weights=CF_model.AE_Model.layers[layer].weight.data[0:2,0:5].numpy()\n",
    "    print(f\"Weights for layer: {layer}\")\n",
    "    print(f\"{weights[0,0:5]}\\n {weights[1,0:5]}\\n\")"
   ]
  },
  {
   "cell_type": "code",
   "execution_count": 14,
   "metadata": {},
   "outputs": [
    {
     "name": "stderr",
     "output_type": "stream",
     "text": [
      "/home/johnrichmond/anaconda3/envs/fastai/lib/python3.6/site-packages/ipykernel_launcher.py:72: UserWarning: Implicit dimension choice for log_softmax has been deprecated. Change the call to include dim=X as an argument.\n"
     ]
    },
    {
     "name": "stdout",
     "output_type": "stream",
     "text": [
      "Train Epoch: 0  Batch: 0 Loss: 0.741854\n",
      "Train Epoch: 0  Batch: 100 Loss: 0.546692\n",
      "Train Epoch: 0  Batch: 200 Loss: 0.503191\n",
      "Train Epoch: 0  Batch: 300 Loss: 0.465228\n",
      "Train Epoch: 0  Batch: 400 Loss: 0.404567\n",
      "Train Epoch: 0  Batch: 500 Loss: 0.334225\n",
      "Train Epoch: 0  Batch: 600 Loss: 0.235845\n",
      "Train Epoch: 0  Batch: 700 Loss: 0.213547\n",
      "Train Epoch: 0  Batch: 800 Loss: 0.172577\n",
      "Train Epoch: 0  Batch: 900 Loss: 0.172087\n",
      "Train Epoch: 0  Batch: 1000 Loss: 0.156164\n",
      "Train Epoch: 0  Batch: 1100 Loss: 0.131156\n",
      "Train Epoch: 0  Batch: 1200 Loss: 0.117207\n",
      "Train Epoch: 0  Batch: 1300 Loss: 0.120121\n",
      "Train Epoch: 0  Batch: 1400 Loss: 0.090223\n",
      "Train Epoch: 0  Batch: 1500 Loss: 0.067666\n",
      "Train Epoch: 0  Batch: 1600 Loss: 0.085666\n",
      "Train Epoch: 0  Batch: 1700 Loss: 0.065954\n",
      "Train Epoch: 0  Batch: 1800 Loss: 0.057507\n",
      "Train Epoch: 0  Batch: 1900 Loss: 0.051788\n",
      "Train Epoch: 0  Batch: 2000 Loss: 0.050614\n",
      "Train Epoch: 0  Batch: 2100 Loss: 0.044304\n",
      "Train Epoch: 0  Batch: 2200 Loss: 0.041240\n",
      "Train Epoch: 0  Batch: 2300 Loss: 0.039616\n",
      "Train Epoch: 0  Batch: 2400 Loss: 0.036210\n",
      "Train Epoch: 0  Batch: 2500 Loss: 0.032827\n",
      "Train Epoch: 0  Batch: 2600 Loss: 0.069837\n",
      "Train Epoch: 0  Batch: 2700 Loss: 0.028410\n",
      "Train Epoch: 0  Batch: 2800 Loss: 0.026055\n",
      "Train Epoch: 0  Batch: 2900 Loss: 0.025124\n",
      "Train Epoch: 0  Batch: 3000 Loss: 0.024255\n",
      "Train Epoch: 0  Batch: 3100 Loss: 0.075862\n",
      "Train Epoch: 0  Batch: 3200 Loss: 0.021892\n",
      "Train Epoch: 0  Batch: 3300 Loss: 0.019835\n",
      "Train Epoch: 0  Batch: 3400 Loss: 0.018095\n",
      "Train Epoch: 0  Batch: 3500 Loss: 0.016258\n",
      "====> Epoch: 0 Average training loss:      0.1432\n",
      "====> Epoch: 0 Average validation loss:          0.0228\n",
      "====> Epoch: 1 Average training loss:      0.0142\n",
      "====> Epoch: 1 Average validation loss:          0.0103\n"
     ]
    }
   ],
   "source": [
    "# Train classifier with the weights of the encoder frozen  \n",
    "CF_test_loss=0\n",
    "\n",
    "for epoch in range(2):\n",
    "    train_loss=CF_manager.train(epoch, True, CF_input_tr, CF_target_tr, batch_size)\n",
    "    CF_test_loss=CF_manager.test(epoch,CF_input_val, CF_target_val, batch_size)\n",
    "    CF_manager.scheduler.step(CF_test_loss)"
   ]
  },
  {
   "cell_type": "code",
   "execution_count": 15,
   "metadata": {},
   "outputs": [],
   "source": [
    "# Save weights from final layer to see how they change in later optimization\n",
    "if HAS_CUDA:\n",
    "    init_weights=CF_model.CF_layers[-2].weight.data.cpu().numpy()\n",
    "else:\n",
    "    init_weights=CF_model.CF_layers[-2].weight.data.numpy()"
   ]
  },
  {
   "cell_type": "code",
   "execution_count": 16,
   "metadata": {},
   "outputs": [
    {
     "name": "stdout",
     "output_type": "stream",
     "text": [
      "Weights for layer: 0\n",
      "[ 1.2245404   1.2114868   1.2058173   1.2075868  -0.17145309]\n",
      " [-1.1535403 -1.1612524 -1.1340013 -1.15049    0.2566308]\n",
      "\n",
      "Weights for layer: 2\n",
      "[ 0.7022519  -0.8492081   0.38762277  0.23290102 -0.45779696]\n",
      " [0.05775605 0.90482885 0.80837315 0.07232201 0.4940859 ]\n",
      "\n",
      "Weights for layer: 4\n",
      "[-0.5069853   0.5117336  -0.21506779  1.3455712   0.530026  ]\n",
      " [-0.15557767  0.06707309 -0.03140653 -4.1155496   0.18079457]\n",
      "\n",
      "Weights for layer: 6\n",
      "[ 0.0094858  -0.00497618  0.01003123 -0.00709216 -0.00711273]\n",
      " [ 0.01943864  0.02288051  0.00334238 -0.00849101  0.00406838]\n",
      "\n"
     ]
    }
   ],
   "source": [
    "# Print small number of weights to check whether they are changed\n",
    "for layer in range(0, len(CF_model.AE_Model.layers), 2):\n",
    "    weights=CF_model.AE_Model.layers[layer].weight.data[0:2,0:5].numpy()\n",
    "    print(f\"Weights for layer: {layer}\")\n",
    "    print(f\"{weights[0,0:5]}\\n {weights[1,0:5]}\\n\")"
   ]
  },
  {
   "cell_type": "code",
   "execution_count": 17,
   "metadata": {},
   "outputs": [],
   "source": [
    "for param in CF_model.AE_Model.parameters():\n",
    "    param.requires_grad=True"
   ]
  },
  {
   "cell_type": "code",
   "execution_count": 18,
   "metadata": {},
   "outputs": [],
   "source": [
    "# Define new optimiser for updating all of the weights in the model including the AE\n",
    "CF_opt2 = optim.Adam(CF_model.parameters(), lr=lr_CF)\n",
    "\n",
    "#Define loss function (this time Negative Log Likelihood for classifier)\n",
    "CF_cost_function2 = nn.NLLLoss()\n",
    "\n",
    "# Define scheduler to control adaption of learning rate with training\n",
    "CF_sched2 = optim.lr_scheduler.ReduceLROnPlateau(CF_opt, mode='min', verbose=True, \n",
    "                                                 patience=2, factor=0.2)\n",
    "\n",
    "# Create training and test manager\n",
    "CF_manager2=NN_Manage(model = CF_model,\n",
    "                     loss_function = CF_cost_function2, \n",
    "                     optimizer = CF_opt2, \n",
    "                     scheduler=CF_sched2,\n",
    "                     HAS_CUDA=HAS_CUDA)"
   ]
  },
  {
   "cell_type": "code",
   "execution_count": 21,
   "metadata": {},
   "outputs": [
    {
     "name": "stderr",
     "output_type": "stream",
     "text": [
      "/home/johnrichmond/anaconda3/envs/fastai/lib/python3.6/site-packages/ipykernel_launcher.py:72: UserWarning: Implicit dimension choice for log_softmax has been deprecated. Change the call to include dim=X as an argument.\n"
     ]
    },
    {
     "name": "stdout",
     "output_type": "stream",
     "text": [
      "Train Epoch: 0  Batch: 0 Loss: 0.003847\n",
      "Train Epoch: 0  Batch: 100 Loss: 0.000158\n",
      "Train Epoch: 0  Batch: 200 Loss: 0.011250\n",
      "Train Epoch: 0  Batch: 300 Loss: 0.000422\n",
      "Train Epoch: 0  Batch: 400 Loss: 0.012160\n",
      "Train Epoch: 0  Batch: 500 Loss: 0.000920\n",
      "Train Epoch: 0  Batch: 600 Loss: 0.000131\n",
      "Train Epoch: 0  Batch: 700 Loss: 0.000178\n",
      "Train Epoch: 0  Batch: 800 Loss: 0.000161\n",
      "Train Epoch: 0  Batch: 900 Loss: 0.000834\n",
      "Train Epoch: 0  Batch: 1000 Loss: 0.001367\n",
      "Train Epoch: 0  Batch: 1100 Loss: 0.002321\n",
      "Train Epoch: 0  Batch: 1200 Loss: 0.001076\n",
      "Train Epoch: 0  Batch: 1300 Loss: 0.000358\n",
      "Train Epoch: 0  Batch: 1400 Loss: 0.000057\n",
      "Train Epoch: 0  Batch: 1500 Loss: 0.000339\n",
      "Train Epoch: 0  Batch: 1600 Loss: 0.000081\n",
      "Train Epoch: 0  Batch: 1700 Loss: 0.022767\n",
      "Train Epoch: 0  Batch: 1800 Loss: 0.000603\n",
      "Train Epoch: 0  Batch: 1900 Loss: 0.004576\n",
      "Train Epoch: 0  Batch: 2000 Loss: 0.000025\n",
      "Train Epoch: 0  Batch: 2100 Loss: 0.078416\n",
      "Train Epoch: 0  Batch: 2200 Loss: 0.002700\n",
      "Train Epoch: 0  Batch: 2300 Loss: 0.000112\n",
      "Train Epoch: 0  Batch: 2400 Loss: 0.000011\n",
      "Train Epoch: 0  Batch: 2500 Loss: 0.000050\n",
      "Train Epoch: 0  Batch: 2600 Loss: 0.000023\n",
      "Train Epoch: 0  Batch: 2700 Loss: 0.139668\n",
      "Train Epoch: 0  Batch: 2800 Loss: 0.030495\n",
      "Train Epoch: 0  Batch: 2900 Loss: 0.000171\n",
      "Train Epoch: 0  Batch: 3000 Loss: 0.001292\n",
      "Train Epoch: 0  Batch: 3100 Loss: 0.000297\n",
      "Train Epoch: 0  Batch: 3200 Loss: 0.002349\n",
      "Train Epoch: 0  Batch: 3300 Loss: 0.000217\n",
      "Train Epoch: 0  Batch: 3400 Loss: 0.001241\n",
      "Train Epoch: 0  Batch: 3500 Loss: 0.000640\n",
      "====> Epoch: 0 Average training loss:      0.0042\n",
      "====> Epoch: 0 Average validation loss:          0.0044\n",
      "====> Epoch: 1 Average training loss:      0.0035\n",
      "====> Epoch: 1 Average validation loss:          0.0030\n",
      " Finished training\n"
     ]
    }
   ],
   "source": [
    "for epoch in range(2):\n",
    "    train_loss=CF_manager2.train(epoch, True, CF_input_tr, CF_target_tr, batch_size)\n",
    "    CF_test_loss=CF_manager2.test(epoch,CF_input_val, CF_target_val, batch_size)\n",
    "    CF_manager2.scheduler.step(CF_test_loss)\n",
    "print(' Finished training')"
   ]
  },
  {
   "cell_type": "code",
   "execution_count": 22,
   "metadata": {},
   "outputs": [
    {
     "name": "stdout",
     "output_type": "stream",
     "text": [
      "Weights for layer: 0\n",
      "[ 1.1357443   0.9834734   1.1416025   1.1601554  -0.20346002]\n",
      " [-1.0854144 -1.1608492 -1.0867145 -0.9504122  0.2515333]\n",
      "\n",
      "Weights for layer: 2\n",
      "[ 0.7130086  -0.83010614  0.4292527   0.24561699 -0.41044214]\n",
      " [0.02969067 0.86214334 0.782212   0.11735676 0.3931043 ]\n",
      "\n",
      "Weights for layer: 4\n",
      "[-0.6013691   0.41675323 -0.26501277  1.4306228   0.4250699 ]\n",
      " [-0.16561273  0.03581658 -0.03448259 -4.1173267   0.1811865 ]\n",
      "\n",
      "Weights for layer: 6\n",
      "[ 0.0156484  -0.03257135  0.01252738  0.00149931 -0.01515452]\n",
      " [ 0.0241586  -0.01348303  0.00521897  0.00066167 -0.00541621]\n",
      "\n"
     ]
    }
   ],
   "source": [
    "# Print small number of weights to check whether they are changed\n",
    "for layer in range(0, len(CF_model.AE_Model.layers), 2):\n",
    "    weights=CF_model.AE_Model.layers[layer].weight.data[0:2,0:5].numpy()\n",
    "    print(f\"Weights for layer: {layer}\")\n",
    "    print(f\"{weights[0,0:5]}\\n {weights[1,0:5]}\\n\")"
   ]
  },
  {
   "cell_type": "code",
   "execution_count": 23,
   "metadata": {},
   "outputs": [
    {
     "name": "stderr",
     "output_type": "stream",
     "text": [
      "/home/johnrichmond/anaconda3/envs/fastai/lib/python3.6/site-packages/ipykernel_launcher.py:80: UserWarning: Implicit dimension choice for softmax has been deprecated. Change the call to include dim=X as an argument.\n"
     ]
    }
   ],
   "source": [
    "# Forward pass to obtain output predictions\n",
    "if HAS_CUDA:\n",
    "    final_weights=CF_model.CF_layers[-2].weight.data.cpu().numpy()\n",
    "else:\n",
    "    final_weights=CF_model.CF_layers[-2].weight.data.numpy()\n",
    "CF_model.eval()\n",
    "pred_tr=CF_manager.predict(CF_input_tr, batch_size=batch_size, \n",
    "                           method=CF_manager.model.predict)\n",
    "pred_val=CF_manager.predict(CF_input_val, batch_size=batch_size, \n",
    "                            method=CF_manager.model.predict)\n",
    "# Predicting the train and test set results\n",
    "_,pred_tr_class = torch.topk(pred_tr,1,dim=1)\n",
    "_,pred_val_class = torch.topk(pred_val,1,dim=1)\n",
    "\n",
    "target_tr=CF_target_tr[0:pred_tr_class.shape[0]]\n",
    "target_val=CF_target_val[0:pred_val_class.shape[0]]\n",
    "val_probs=pred_val[:,1].numpy().flatten()"
   ]
  },
  {
   "cell_type": "code",
   "execution_count": 24,
   "metadata": {
    "scrolled": true
   },
   "outputs": [
    {
     "data": {
      "image/png": "[encoded data removed]",
      "text/plain": [
       "<matplotlib.figure.Figure at 0x7f188ef56588>"
      ]
     },
     "metadata": {},
     "output_type": "display_data"
    }
   ],
   "source": [
    "# Make the Confusion Matrix\n",
    "from sklearn.metrics import (confusion_matrix, precision_recall_curve, auc,\n",
    "                             roc_curve, recall_score, classification_report, f1_score,\n",
    "                             precision_recall_fscore_support,\n",
    "                             average_precision_score)\n",
    "import seaborn as sbn\n",
    "LABELS = [\"Normal\", \"Fraud\"]\n",
    "\n",
    "cm_tr = confusion_matrix(target_tr.numpy(), pred_tr_class.numpy())\n",
    "cm_val = confusion_matrix(target_val.numpy(), pred_val_class.numpy())\n",
    "\n",
    "plt.figure(figsize=(8,3))\n",
    "plt.subplot(1,2,1)\n",
    "sbn.set(style='whitegrid', font_scale=1.5)\n",
    "sbn.heatmap(cm_tr, vmin=0, vmax=500, xticklabels=LABELS, yticklabels=LABELS, annot=True, \n",
    "            cbar=False, fmt=\"d\")\n",
    "plt.title('Training Confusion Matrix')\n",
    "plt.ylabel('True Class')\n",
    "plt.xlabel('Predicted Class')\n",
    "\n",
    "plt.subplot(1,2,2)\n",
    "sbn.heatmap(cm_val, vmin=0, vmax=500, xticklabels=LABELS, yticklabels=LABELS, annot=True, \n",
    "            cbar=False, fmt=\"d\")\n",
    "plt.title('Validation Confusion Matrix')\n",
    "plt.ylabel('True Class')\n",
    "plt.xlabel('Predicted Class')\n",
    "plt.subplots_adjust(left=0.2, wspace=0.8, top=0.8)\n",
    "plt.show()"
   ]
  },
  {
   "cell_type": "code",
   "execution_count": 25,
   "metadata": {},
   "outputs": [
    {
     "name": "stdout",
     "output_type": "stream",
     "text": [
      "Precision  : 84.2%\n",
      "Recall     : 80.2%\n"
     ]
    }
   ],
   "source": [
    "# Calculate and plot the Precision and Recall\n",
    "\n",
    "result_df = pd.DataFrame({'predicted_class': pred_val_class.numpy().flatten(),\n",
    "                        'actual_class':target_val.numpy(),\n",
    "                        'validation_probs': val_probs})\n",
    "result_df['Amount']=data_val['Amt_To_Keep'].values\n",
    "result_df['Class']=data_val['Class'].values\n",
    "\n",
    "true_positive=cm_val[1,1]\n",
    "false_negative=cm_val[1,0]\n",
    "true_negative=cm_val[0,0]\n",
    "false_positive=cm_val[0,1]\n",
    "\n",
    "precision=true_positive/(true_positive+false_positive)\n",
    "recall=true_positive/(true_positive+false_negative)\n",
    "\n",
    "print( 'Precision  : {:.1%}'.format(precision))\n",
    "print( 'Recall     : {:.1%}'.format(recall))"
   ]
  },
  {
   "cell_type": "code",
   "execution_count": 26,
   "metadata": {},
   "outputs": [
    {
     "name": "stdout",
     "output_type": "stream",
     "text": [
      " Average precision score: 0.7970\n"
     ]
    },
    {
     "data": {
      "image/png": "[encoded data removed]",
      "text/plain": [
       "<matplotlib.figure.Figure at 0x7f1892bc04e0>"
      ]
     },
     "metadata": {},
     "output_type": "display_data"
    }
   ],
   "source": [
    "# Plot the precision recall curve\n",
    "\n",
    "val_probs=pred_val_class.numpy()\n",
    "precision, recall, th = precision_recall_curve(result_df.actual_class, \n",
    "                                               result_df.validation_probs)\n",
    "\n",
    "AUPRC=average_precision_score(result_df.actual_class, result_df.validation_probs)\n",
    "\n",
    "print(' Average precision score: {:.4f}'.format(AUPRC))\n",
    "\n",
    "plt.plot(recall, precision, 'b', label = 'Precision-Recall Curve')\n",
    "plt.title('Recall vs. Precision')\n",
    "plt.xlabel('Recall')\n",
    "plt.ylabel('Precision')\n",
    "plt.show()"
   ]
  },
  {
   "cell_type": "code",
   "execution_count": 34,
   "metadata": {},
   "outputs": [
    {
     "data": {
      "image/png": "[encoded data removed]",
      "text/plain": [
       "<matplotlib.figure.Figure at 0x7f18802a5780>"
      ]
     },
     "metadata": {},
     "output_type": "display_data"
    }
   ],
   "source": [
    "width=0.6\n",
    "ind=np.arange(init_weights.shape[1])\n",
    "rect1=plt.bar(ind, np.abs(init_weights[1,:]), width, label=\"Initial\", color='b')\n",
    "rects2=plt.bar(ind+width, np.abs(init_weights[0,:]), width, label=\"Initial\", color='r')\n",
    "plt.tick_params(axis='x', width=[ind + width*2])\n",
    "plt.title('Absolute value of weights')\n",
    "plt.xlabel('Feature No')\n",
    "plt.show()"
   ]
  },
  {
   "cell_type": "code",
   "execution_count": 28,
   "metadata": {},
   "outputs": [
    {
     "name": "stdout",
     "output_type": "stream",
     "text": [
      "Total transactions in validation set:                        4968641.3100\n",
      "Total Value of genuine fraud transactions in validation set:   11003.4700\n",
      "Total value of fraud stopped:                                   7059.2300\n",
      "Total value of fraud missed:                                    3944.2400\n"
     ]
    }
   ],
   "source": [
    "total_transactions=result_df['Amount'].sum()\n",
    "total_for_actuals=result_df[result_df.Class==True].sum()\n",
    "total_fraud_value=total_for_actuals['Amount']\n",
    "print('Total transactions in validation set:                        {:12.4f}'.format(total_transactions))\n",
    "print('Total Value of genuine fraud transactions in validation set: {:12.4f}'.format(total_fraud_value))\n",
    "total_fraud_stopped=result_df[(result_df.Class==True) &(result_df.predicted_class==True)].sum()\n",
    "print('Total value of fraud stopped:                                {:12.4f}'.format(total_fraud_stopped['Amount']))\n",
    "print('Total value of fraud missed:                                 {:12.4f}'.format(\n",
    "    total_fraud_value-total_fraud_stopped['Amount']))\n",
    "missed_transactions=result_df[(result_df.Class==True) &(result_df.predicted_class==False)]\n",
    "\n",
    "\n"
   ]
  },
  {
   "cell_type": "code",
   "execution_count": null,
   "metadata": {},
   "outputs": [],
   "source": []
  }
 ],
 "metadata": {
  "kernelspec": {
   "display_name": "Python 3",
   "language": "python",
   "name": "python3"
  },
  "language_info": {
   "codemirror_mode": {
    "name": "ipython",
    "version": 3
   },
   "file_extension": ".py",
   "mimetype": "text/x-python",
   "name": "python",
   "nbconvert_exporter": "python",
   "pygments_lexer": "ipython3",
   "version": "3.6.4"
  }
 },
 "nbformat": 4,
 "nbformat_minor": 2
}
